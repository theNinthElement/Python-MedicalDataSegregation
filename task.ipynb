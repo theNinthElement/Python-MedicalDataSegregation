{
 "cells": [
  {
   "cell_type": "code",
   "execution_count": 4,
   "metadata": {},
   "outputs": [],
   "source": [
    "import os\n",
    "import zipfile\n",
    "import glob\n",
    "import shutil\n",
    "from PIL import Image"
   ]
  },
  {
   "cell_type": "code",
   "execution_count": 25,
   "metadata": {},
   "outputs": [],
   "source": [
    "filepath = './unorg_data.zip'\n",
    "if zipfile.is_zipfile(filepath): \n",
    "    with zipfile.ZipFile(filepath) as item:\n",
    "        item.extractall()"
   ]
  },
  {
   "cell_type": "code",
   "execution_count": 2,
   "metadata": {},
   "outputs": [],
   "source": [
    "def read_first_line(file):\n",
    "    with open(file, 'rt') as fd:\n",
    "         first_line = fd.readline()\n",
    "    return first_line[:-1]"
   ]
  },
  {
   "cell_type": "code",
   "execution_count": 17,
   "metadata": {},
   "outputs": [
    {
     "name": "stdout",
     "output_type": "stream",
     "text": [
      "['2022-06-09.txt', '2022-07-12.txt', '2022-08-23.txt', '2022-06-12.txt', '2022-07-13.txt', '2022-06-13.txt', '2022-07-25.txt', '2022-07-19.txt', '2022-08-06.txt', '2022-08-31.txt', '2022-07-22.txt', '2022-07-09.txt', '2022-07-16.txt', '2022-06-05.txt', '2022-07-28.txt', '2022-08-28.txt', '2022-06-21.txt', '2022-09-04.txt', '2022-06-14.txt', '2022-07-10.txt', '2022-08-16.txt', '2022-09-07.txt', '2022-07-30.txt', '2022-08-25.txt', '2022-07-31.txt', '2022-06-04.txt', '2022-07-18.txt', '2022-06-15.txt', '2022-08-30.txt', '2022-08-13.txt', '2022-08-26.txt', '2022-08-10.txt', '2022-06-27.txt', '2022-07-24.txt', '2022-08-19.txt', '2022-08-14.txt', '2022-08-15.txt', '2022-09-01.txt', '2022-09-05.txt', '2022-07-07.txt', '2022-07-27.txt', '2022-09-03.txt', '2022-07-15.txt', '2022-06-28.txt', '2022-08-29.txt', '2022-06-16.txt', '2022-08-05.txt', '2022-08-08.txt', '2022-07-08.txt', '2022-08-18.txt', '2022-08-11.txt', '2022-06-06.txt', '2022-06-20.txt', '2022-09-06.txt', '2022-06-29.txt', '2022-07-26.txt', '2022-06-07.txt', '2022-07-17.txt', '2022-08-17.txt', '2022-08-07.txt', '2022-06-26.txt', '2022-07-04.txt', '2022-06-11.txt', '2022-08-27.txt', '2022-06-17.txt', '2022-06-19.txt', '2022-08-12.txt', '2022-06-30.txt', '2022-07-14.txt', '2022-09-08.txt', '2022-07-02.txt', '2022-06-23.txt', '2022-06-08.txt', '2022-07-20.txt', '2022-06-02.txt', '2022-09-02.txt', '2022-07-05.txt', '2022-06-18.txt', '2022-08-22.txt', '2022-06-10.txt', '2022-07-29.txt', '2022-08-20.txt', '2022-08-02.txt', '2022-07-03.txt', '2022-06-03.txt', '2022-08-21.txt', '2022-07-06.txt', '2022-06-01.txt', '2022-08-04.txt', '2022-06-24.txt', '2022-08-01.txt', '2022-07-23.txt', '2022-07-01.txt', '2022-07-11.txt', '2022-08-24.txt', '2022-08-09.txt', '2022-08-03.txt', '2022-06-25.txt']\n"
     ]
    }
   ],
   "source": [
    "all_text_files = []\n",
    "for file in os.listdir(\"./unorg_data\"):\n",
    "    if file.endswith(\".txt\"):\n",
    "        all_text_files.append(file)\n",
    "\n",
    "print(all_text_files)"
   ]
  },
  {
   "cell_type": "code",
   "execution_count": 14,
   "metadata": {},
   "outputs": [],
   "source": [
    "def move_images(file, object_type, filepath):\n",
    "    if file.endswith(\".jpg\"):\n",
    "        os.rename(\"./unorg_data/\"+file, \"./unorg_data/image.jpg\")\n",
    "    if file.endswith(\".png\"):\n",
    "        im = Image.open(r\"./unorg_data/\"+file)\n",
    "        im.save(r\"./unorg_data/\"+\"image.jpg\",\"JPG\")\n",
    "    if file.endswith(\".bmp\"):\n",
    "        im = Image.open(r\"./unorg_data/\"+file)\n",
    "        im.save(r\"./unorg_data/\"+\"image.jpg\", \"JPG\")    \n",
    "    shutil.move(\"./unorg_data/image.jpg\", \"./org_data/\"+object_type+filepath[:-4]+\"/image.jpg\")\n",
    "    return 0"
   ]
  },
  {
   "cell_type": "code",
   "execution_count": 15,
   "metadata": {},
   "outputs": [],
   "source": [
    "def move_segementaion(file, object_type, filepath):\n",
    "    if file.endswith(\".gif\"):\n",
    "        os.rename(\"./unorg_data/\"+file, \"./unorg_data/segmentation.gif\")\n",
    "    if file.endswith(\".tif\"):\n",
    "        im = Image.open(r\"./unorg_data/\"+file)\n",
    "        im.save(r\"./unorg_data/\"+\"segmentation.gif\",\"GIF\")\n",
    "    shutil.move(\"./unorg_data/segmentation.gif\", \"./org_data/\"+object_type+filepath[:-4]+\"/segmentation.gif\")\n",
    "    return 0"
   ]
  },
  {
   "cell_type": "code",
   "execution_count": 18,
   "metadata": {},
   "outputs": [
    {
     "name": "stdout",
     "output_type": "stream",
     "text": [
      "2022-06-09.txt\n",
      "2022-06-09.txt\n"
     ]
    },
    {
     "ename": "NameError",
     "evalue": "name 'filepath' is not defined",
     "output_type": "error",
     "traceback": [
      "\u001b[0;31m---------------------------------------------------------------------------\u001b[0m",
      "\u001b[0;31mNameError\u001b[0m                                 Traceback (most recent call last)",
      "Cell \u001b[0;32mIn [18], line 15\u001b[0m\n\u001b[1;32m     13\u001b[0m \u001b[39mif\u001b[39;00m rest_files\u001b[39m.\u001b[39mendswith(\u001b[39m\"\u001b[39m\u001b[39m.txt\u001b[39m\u001b[39m\"\u001b[39m):\n\u001b[1;32m     14\u001b[0m     os\u001b[39m.\u001b[39mrename(\u001b[39m\"\u001b[39m\u001b[39m./unorg_data/\u001b[39m\u001b[39m\"\u001b[39m\u001b[39m+\u001b[39mrest_files, \u001b[39m\"\u001b[39m\u001b[39m./unorg_data/object.txt\u001b[39m\u001b[39m\"\u001b[39m)\n\u001b[0;32m---> 15\u001b[0m     shutil\u001b[39m.\u001b[39mmove(\u001b[39m\"\u001b[39m\u001b[39m./unorg_data/object.txt\u001b[39m\u001b[39m\"\u001b[39m, \u001b[39m\"\u001b[39m\u001b[39m./org_data/\u001b[39m\u001b[39m\"\u001b[39m\u001b[39m+\u001b[39mobject_type\u001b[39m+\u001b[39mfilepath[:\u001b[39m-\u001b[39m\u001b[39m4\u001b[39m]\u001b[39m+\u001b[39m\u001b[39m\"\u001b[39m\u001b[39m/object.txt\u001b[39m\u001b[39m\"\u001b[39m)\n\u001b[1;32m     16\u001b[0m \u001b[39mif\u001b[39;00m rest_files\u001b[39m.\u001b[39mendswith(\u001b[39m\"\u001b[39m\u001b[39m.tsv\u001b[39m\u001b[39m\"\u001b[39m):\n\u001b[1;32m     17\u001b[0m     os\u001b[39m.\u001b[39mrename(\u001b[39m\"\u001b[39m\u001b[39m./unorg_data/\u001b[39m\u001b[39m\"\u001b[39m\u001b[39m+\u001b[39mrest_files, \u001b[39m\"\u001b[39m\u001b[39m./unorg_data/histogram.tsv\u001b[39m\u001b[39m\"\u001b[39m)\n",
      "\u001b[0;31mNameError\u001b[0m: name 'filepath' is not defined"
     ]
    }
   ],
   "source": [
    "for file in all_text_files:\n",
    "    print(file)\n",
    "    object_type = (read_first_line(\"./unorg_data/\"+file))\n",
    "    for rest_files in os.listdir(\"./unorg_data\"):\n",
    "        # print(file[:-4])\n",
    "        # print(rest_files)\n",
    "        if rest_files.startswith(file[:-4]):\n",
    "            print(rest_files)\n",
    "            if not os.path.exists(\"./org_data/\"+object_type+\"/\"+file[:-4]):\n",
    "                os.makedirs(\"./org_data/\"+object_type+\"/\"+file[:-4])\n",
    "            if rest_files.endswith(\".jpg\") or rest_files.endswith(\".png\") or rest_files.endswith(\".bmp\"):\n",
    "                move_images(rest_files, object_type, file)\n",
    "            if rest_files.endswith(\".txt\"):\n",
    "                os.rename(\"./unorg_data/\"+rest_files, \"./unorg_data/object.txt\")\n",
    "                shutil.move(\"./unorg_data/object.txt\", \"./org_data/\"+object_type+filepath[:-4]+\"/object.txt\")\n",
    "            if rest_files.endswith(\".tsv\"):\n",
    "                os.rename(\"./unorg_data/\"+rest_files, \"./unorg_data/histogram.tsv\")\n",
    "                shutil.move(\"./unorg_data/histogram.tsv\", \"./org_data/\"+object_type+filepath[:-4]+\"/histogram.tsv\")\n",
    "            if rest_files.endswith(\".tif\") or rest_files.endswith(\"gif\"):\n",
    "                move_segementaion(rest_files, object_type, file)\n",
    "            if rest_files.endswith(\".csv\"):\n",
    "                os.rename(\"./unorg_data/\"+rest_files, \"./unorg_data/statistics.csv\")\n",
    "                shutil.move(\"./unorg_data/statistics.csv\", \"./org_data/\"+object_type+filepath[:-4]+\"/statistics.csv\")   \n",
    "    break"
   ]
  }
 ],
 "metadata": {
  "kernelspec": {
   "display_name": "Python 3",
   "language": "python",
   "name": "python3"
  },
  "language_info": {
   "codemirror_mode": {
    "name": "ipython",
    "version": 3
   },
   "file_extension": ".py",
   "mimetype": "text/x-python",
   "name": "python",
   "nbconvert_exporter": "python",
   "pygments_lexer": "ipython3",
   "version": "3.10.6"
  },
  "orig_nbformat": 4,
  "vscode": {
   "interpreter": {
    "hash": "916dbcbb3f70747c44a77c7bcd40155683ae19c65e1c03b4aa3499c5328201f1"
   }
  }
 },
 "nbformat": 4,
 "nbformat_minor": 2
}
